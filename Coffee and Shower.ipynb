{
 "cells": [
  {
   "cell_type": "code",
   "execution_count": 1,
   "id": "bd7cd91a",
   "metadata": {},
   "outputs": [],
   "source": [
    "from antelope_foreground import ForegroundCatalog\n",
    "from antelope import enum  # utility for listing iterable results for interactive use"
   ]
  },
  {
   "cell_type": "code",
   "execution_count": 2,
   "id": "5e82249b",
   "metadata": {},
   "outputs": [
    {
     "name": "stdout",
     "output_type": "stream",
     "text": [
      "merging Emissions into Emissions\n",
      "merging Resources into Resources\n",
      "Loading JSON data from /data/GitHub/Antelope/demo/catalog/reference-quantities.json:\n",
      "local.qdb: /data/GitHub/Antelope/demo/catalog/reference-quantities.json\n",
      "local.qdb: Setting NSUUID (False) 77833297-6780-49bf-a61a-0cb707dce700\n",
      "local.qdb: /data/GitHub/lca-tools/lcatools/qdb/data/elcd_reference_quantities.json\n",
      "26 new quantity entities added (26 total)\n",
      "6 new flow entities added (6 total)\n"
     ]
    }
   ],
   "source": [
    "def lca_init():\n",
    "    cat = ForegroundCatalog('catalog', strict_clookup=False, quell_biogenic_co2=True)\n",
    "    cat.lcia_engine.add_synonym('number of items', 'Items')\n",
    "    cat.lcia_engine.add_synonym('number of items', 'Count')\n",
    "    cat.lcia_engine.get_canonical('volume')['UnitConversion']['mL'] = 1e6\n",
    "    return cat\n",
    "\n",
    "cat = lca_init()\n",
    "mass = cat.get_canonical('mass')"
   ]
  },
  {
   "cell_type": "markdown",
   "id": "93e3d99a",
   "metadata": {},
   "source": [
    "## origins and interfaces\n",
    "A catalog maps queries to resources. The queries come in terms of an _origin_ (which is an \"agreed-on data source\") and a _request_.  Different classes of requests are handled by different _interfaces_ which include:\n",
    "\n",
    " * index : search, retrieve, metadata\n",
    " * exchange : quantitative information about related flows through processes\n",
    " * quantity : quantitative information about related quantities (measures) of flows\n",
    " * background : graph ordering, matrix construction + calculation\n",
    " * foreground : model building\n",
    " \n",
    "`qdb` is the local quantity database."
   ]
  },
  {
   "cell_type": "code",
   "execution_count": 3,
   "id": "9b4c4698",
   "metadata": {},
   "outputs": [
    {
     "name": "stdout",
     "output_type": "stream",
     "text": [
      "coffee_demo [basic, foreground, index, quantity]\n",
      "ecoinvent.2.2 [basic, exchange]\n",
      "ecoinvent.3.7.1.cutoff [background, basic, exchange, index]\n",
      "ecoinvent.3.8.cutoff [background, basic, exchange, index]\n",
      "lcacommons.useeio.2.0.1 [background, basic, exchange, index]\n",
      "lcacommons.uslci.fy20.q4 [basic, exchange]\n",
      "lcacommons.uslci.fy21.q1 [background, basic, exchange, index, quantity]\n",
      "local.lcia.traci.2.1 [basic, index, quantity]\n",
      "local.qdb [index, quantity]\n",
      "openlca.lcia.2.1.1 [basic, index, quantity]\n",
      "openlca.refdata.2.1 [basic, index, quantity]\n",
      "u-cuenca.ecoinvent.2.2 [background, basic, exchange, index]\n"
     ]
    }
   ],
   "source": [
    "cat.show_interfaces()"
   ]
  },
  {
   "cell_type": "markdown",
   "id": "e453c987",
   "metadata": {},
   "source": [
    "## Foregrounds\n",
    "Foregrounds are the basic container for organizing models."
   ]
  },
  {
   "cell_type": "code",
   "execution_count": 4,
   "id": "9f574b45",
   "metadata": {},
   "outputs": [
    {
     "name": "stdout",
     "output_type": "stream",
     "text": [
      "Returning existing resource\n",
      "QQQQQQQQQQQQQQQQQQ coffee_demo QQQQQQQQQQQQQQQQQQ\n",
      "Found Antelope providers:\n",
      "antelope_core.providers:IlcdArchive\n",
      "antelope_core.providers:IlcdLcia\n",
      "antelope_core.providers:EcospoldV2Archive\n",
      "antelope_core.providers:EcospoldV1Archive\n",
      "antelope_core.providers:EcoinventLcia\n",
      "antelope_core.providers:OpenLcaJsonLdArchive\n",
      "antelope_core.providers:Traci21Factors\n",
      "antelope_background.providers:TarjanBackground\n",
      "antelope_background.providers:Background\n",
      "antelope_foreground.providers:AntelopeV1Client\n",
      "antelope_foreground.providers:LcForeground\n",
      "coffee_demo: /data/GitHub/Antelope/demo/catalog/coffee_demo\n",
      "coffee_demo: Setting NSUUID (None) None\n",
      "Loading /data/GitHub/Antelope/demo/catalog/coffee_demo\n",
      "0 new fragment entities added (0 total)\n"
     ]
    }
   ],
   "source": [
    "fg = cat.create_foreground('coffee_demo')"
   ]
  },
  {
   "cell_type": "markdown",
   "id": "9afdd3b0",
   "metadata": {},
   "source": [
    "## Helper clas\n",
    "This class performs / simplifies contextual tasks that casual users would perform graphically"
   ]
  },
  {
   "cell_type": "code",
   "execution_count": 5,
   "id": "cea1e874",
   "metadata": {},
   "outputs": [],
   "source": [
    "tr = str.maketrans(' ', '_', ',[]()*&^%$#@')\n",
    "\n",
    "def _flow_to_ref(name):\n",
    "    n = name.translate(tr).lower()\n",
    "    if n.startswith('flow_'):\n",
    "        fl = n\n",
    "    else:\n",
    "        fl = 'flow_' + n\n",
    "    return fl\n",
    "\n",
    "\n",
    "class QuickModelBuilder(object):\n",
    "    \"\"\"\n",
    "    Convenience class for building models.  Performs the following tasks:\n",
    "    \n",
    "     - maintain a list of references to background processes or 'terminations' in active use (or via query)\n",
    "     - create or retrieve flows an\n",
    "     - create fragments comprising those flows\n",
    "     - terminate those fragments to background processes\n",
    "    \"\"\"\n",
    "    \n",
    "    def set_terms(self, terms):\n",
    "        if terms:\n",
    "            for k, v in terms.items():\n",
    "                self._terms[k] = self.fg.catalog_ref(*v)\n",
    "    \n",
    "    def terms(self, term):\n",
    "        return self._terms[term]\n",
    "\n",
    "    def __init__(self, fg, terms=None):\n",
    "        self._fg = fg\n",
    "        self._terms = {}\n",
    "        self.set_terms(terms)\n",
    "\n",
    "    @property\n",
    "    def fg(self):\n",
    "        return self._fg\n",
    "\n",
    "    def _new_reference_fragment(self, flow, direction, external_ref):\n",
    "        frag = self.fg[external_ref]\n",
    "        if frag is None:\n",
    "            frag = self.fg.new_fragment(flow, direction, external_ref=external_ref)\n",
    "\n",
    "        return frag\n",
    "\n",
    "    def new_link(self, flow_name, ref_quantity, direction, amount=None, units=None, flow_ref=None, parent=None, name=None,\n",
    "                 stage=None,\n",
    "                 prefix='frag',\n",
    "                 balance=None):\n",
    "        \"\"\"\n",
    "        Create or retrieve a flow, and create a directed link [fragment] comprising that flow.  \n",
    "        \n",
    "        The link is either a reference fragment (no parent supplied) or a child fragment (yes parent supplied).\n",
    "        \n",
    "        Reference fragments must be named (auto-generated from flow name if none is given)\n",
    "        \n",
    "        examples:\n",
    "        \n",
    "        mass = cat.get_canonical('mass')\n",
    "        \n",
    "        k = self.new_link('X-2000 Widget', 'number of items', 'Output', amount=1.0, name='x2k-widget')\n",
    "        k.flow.characterize(mass, 450.0)\n",
    "        l = self.new_link('Widget goop', 'mass', 'Input', amount=434.0, units='kg', parent=k)\n",
    "        m = self.new_link('Widget chunks', 'mass', 'Input', balance=True, parent=k)\n",
    "\n",
    "        When this fragment is traversed, the inflow of widget chunks will be dynamically computed to be 16 kg.\n",
    "\n",
    "        l.terminate(self.terms('widget-goop-production'))\n",
    "        m.terminate(self.terms('widget-chunk-production'))\n",
    "        \n",
    "        This designates some other model as the source of information about the two respective inflows.\n",
    "\n",
    "        :param flow_name:\n",
    "        :param ref_quantity: of flow\n",
    "        :param direction: of fragment with respect to parent (or self if no parent)\n",
    "        :param amount:\n",
    "        :param units:\n",
    "        :param flow_ref:\n",
    "        :param parent:\n",
    "        :param name:\n",
    "        :param stage:\n",
    "        :param prefix: what to add to the auto-name in order to\n",
    "        :param balance: direction='balance' should be equivalent;; direction is irrelevant under balance\n",
    "        :return:\n",
    "        \"\"\"\n",
    "        if flow_ref is None:\n",
    "            flow_ref = _flow_to_ref(flow_name)\n",
    "\n",
    "        flow = self.fg.add_or_retrieve(flow_ref, ref_quantity, flow_name)\n",
    "\n",
    "        external_ref = name or None\n",
    "        if parent is None:\n",
    "            if flow_ref.startswith('flow_'):\n",
    "                auto_name = flow_ref[5:]\n",
    "            else:\n",
    "                auto_name = '%s_%s' % (prefix, flow_ref)\n",
    "            external_ref = external_ref or auto_name\n",
    "\n",
    "            frag = self._new_reference_fragment(flow, direction, external_ref)\n",
    "            self.fg.observe(frag, exchange_value=amount, units=units)\n",
    "        else:\n",
    "            if direction == 'balance':\n",
    "                balance = True\n",
    "            if balance:\n",
    "                frag = self.fg.new_fragment(flow, direction, parent=parent, balance=True)\n",
    "            else:\n",
    "                frag = self.fg.new_fragment(flow, direction, value=1.0, parent=parent, external_ref=external_ref)\n",
    "                self.fg.observe(frag, exchange_value=amount, units=units)\n",
    "\n",
    "        if stage:\n",
    "            frag['StageName'] = stage\n",
    "\n",
    "        return frag\n"
   ]
  },
  {
   "cell_type": "code",
   "execution_count": 7,
   "id": "da144074",
   "metadata": {},
   "outputs": [],
   "source": [
    "# \"terminations\" or \"provider\" activities, drawn from the ecoinvent database.\n",
    "# these were obtained through manual [expert] review and data selection\n",
    "TERMS = {\n",
    "    'coffee_green': ['ecoinvent.3.8.cutoff', '40cd93ba-b97f-43e5-8bbd-f86e34cf1d4d'],\n",
    "    'elec_wecc': ['ecoinvent.3.8.cutoff', '56c40e26-3740-4973-916e-3999d997ea60'],\n",
    "    'ng_mj': ['ecoinvent.3.8.cutoff', '242162aa-17fb-4e5d-923a-899b5b7bb864'],\n",
    "    'ng_mj_high': ['ecoinvent.3.8.cutoff', '44e62980-8489-4a80-8ecb-fca6a12e2d05'],\n",
    "    'tissue_paper': ['ecoinvent.3.8.cutoff', '6f123135-58e0-4e4c-b556-19d5e71ea15e'],\n",
    "    'sugar': ['ecoinvent.3.8.cutoff', 'e24d837f-eabb-41df-b282-c97af565b6ca'],\n",
    "    'soap': ['ecoinvent.3.8.cutoff',  '21abc849-d8aa-4151-b063-b10df257abfc'],\n",
    "    'tap_water': ['ecoinvent.3.8.cutoff', 'ac596c5b-7779-4a51-9c5f-9ec2e0025d6d'],\n",
    "    'landfill': ['ecoinvent.3.8.cutoff', '37fecf1c-c830-4bff-a8fe-76aa79d7ff2d']\n",
    "}\n"
   ]
  },
  {
   "cell_type": "code",
   "execution_count": 8,
   "id": "639fe50b",
   "metadata": {},
   "outputs": [
    {
     "name": "stdout",
     "output_type": "stream",
     "text": [
      "QQQQQQQQQQQQQQQQQQ ecoinvent.3.8.cutoff QQQQQQQQQQQQQQQQQQ\n",
      "Loading JSON data from /data/LCI/aws-data/ecoinvent.3.8.cutoff/index/json/8aaaf7f46f8d75939cadb7c4e297ebd831eff443.json.gz:\n",
      "ecoinvent.3.8.cutoff.index.20220509: /data/LCI/aws-data/ecoinvent.3.8.cutoff/index/json/8aaaf7f46f8d75939cadb7c4e297ebd831eff443.json.gz\n",
      "ecoinvent.3.8.cutoff.index.20220509: Setting NSUUID (None) None\n",
      "ecoinvent.3.8.cutoff.index.20220509: <source removed>\n",
      "ecoinvent.3.8.cutoff: /data/LCI/aws-data/ecoinvent.3.8.cutoff/index/json/8aaaf7f46f8d75939cadb7c4e297ebd831eff443.json.gz\n",
      "ecoinvent.3.8.cutoff: /data/LCI/aws-data/ecoinvent.3.8.cutoff/exchange/EcospoldV2Archive/ecoinvent 3.8_cutoff_ecoSpold02.zip\n",
      "20 new quantity entities added (20 total)\n",
      "5463 new flow entities added (5463 total)\n",
      "17910 new process entities added (17910 total)\n",
      "Applying stored configuration\n",
      "Applying context hint ecoinvent.3.8.cutoff.index.20220509:water => to water\n",
      "Applying context hint ecoinvent.3.8.cutoff:water => to water\n",
      "Applying quantity hint EcoSpold Quantity m2*year -> Area*time\n",
      "Applying quantity hint EcoSpold Quantity m2 -> Area\n",
      "Applying quantity hint EcoSpold Quantity m3 -> Volume\n",
      "Applying context hint ecoinvent.3.8.cutoff.index.20220509:air => to air\n",
      "Applying context hint ecoinvent.3.8.cutoff:air => to air\n",
      "Applying quantity hint EcoSpold Quantity MJ -> Net Calorific Value\n"
     ]
    }
   ],
   "source": [
    "B = QuickModelBuilder(fg, terms=TERMS)"
   ]
  },
  {
   "cell_type": "code",
   "execution_count": 9,
   "id": "3b0c264f",
   "metadata": {},
   "outputs": [
    {
     "name": "stdout",
     "output_type": "stream",
     "text": [
      "Naming fragment f3f40fc7-8330-49b6-8100-424cd4f25760 -> coffee_roasted\n"
     ]
    },
    {
     "data": {
      "text/plain": [
       "<antelope_foreground.terminations.FlowTermination at 0x7f3bc6386970>"
      ]
     },
     "execution_count": 9,
     "metadata": {},
     "output_type": "execute_result"
    }
   ],
   "source": [
    "## coffee roasting\n",
    "# https://link.springer.com/article/10.1007/s11367-019-01719-2/tables/2\n",
    "roast = B.new_link('Coffee, roasted', 'mass', 'Output', 1000.0)\n",
    "B.new_link('Coffee, green', 'mass', 'Input', 1152.0, parent=roast).terminate(B.terms('coffee_green'))\n",
    "B.new_link('Electricity', 'kWh', 'Input', 275, units='MJ', parent=roast).terminate(B.terms('elec_wecc'))\n",
    "B.new_link('Heat, natural gas', 'net calorific value', 'Input', 1702, units='MJ',\n",
    "              parent=roast).terminate(B.terms('ng_mj_high'))\n",
    "B.new_link('Water', 'mass', 'Input', 384, units='kg', parent=roast).terminate(B.terms('tap_water'))\n"
   ]
  },
  {
   "cell_type": "code",
   "execution_count": 10,
   "id": "234ae8fe",
   "metadata": {},
   "outputs": [
    {
     "name": "stdout",
     "output_type": "stream",
     "text": [
      "( ** ref) -<- f3f40 -<- -O    [   1 kg] Coffee, roasted {coffee_roasted}\n",
      "LcFragment Entity (ref coffee_roasted)\n",
      "origin: coffee_demo\n",
      "reference: None\n",
      "     Name: Coffee, roasted\n",
      "  Comment: \n",
      "StageName: \n",
      "Exchange values: \n",
      "              Cached: 1\n",
      "            Observed: 1000\n",
      "\n",
      "Balance flow: False\n",
      "Terminations: \n",
      "            Scenario  Termination\n",
      "                None: -O   Foreground\n"
     ]
    }
   ],
   "source": [
    "roast.show()"
   ]
  },
  {
   "cell_type": "markdown",
   "id": "1fd2c088",
   "metadata": {},
   "source": [
    "## Observed flows\n",
    "The software distinguishes between \"observed\" and \"unobserved\" exchanges.  Observation is essentially the act of measuring (or otherwise corroborating) the numerical amount of each exchange.  Unobserved exchanges express the structure of the graph (and may include data); observed exchanges express data.  \n",
    "\n",
    "Alternate observations can be made and tagged to different scenarios, which are specified during traversal. \n",
    "\n",
    "The model is suitably visualized as an ASCII-art tree diagram.  The `B*` indicate background processes."
   ]
  },
  {
   "cell_type": "code",
   "execution_count": 11,
   "id": "870e13e2",
   "metadata": {},
   "outputs": [
    {
     "name": "stdout",
     "output_type": "stream",
     "text": [
      "   -<--O   f3f40 [       1 kg] Coffee, roasted\n",
      "    [   1 unit] Coffee, roasted\n",
      "       |        Stage: heat production, natural gas, at boiler condensing modulating >100kW\n",
      "       | -<--B*  1fdf5 [       1 MJ] Heat, natural gas\n",
      "       |        Stage: market for coffee, green bean\n",
      "       | -<--B*  79b52 [       1 kg] Coffee, green\n",
      "       |        Stage: market for electricity, low voltage\n",
      "       | -<--B*  ea483 [       1 kWh] Electricity\n",
      "       |        Stage: market for tap water\n",
      "       | -<--B*  32ddb [       1 kg] Water\n",
      "       x \n"
     ]
    }
   ],
   "source": [
    "# unobserved \n",
    "roast.show_tree()"
   ]
  },
  {
   "cell_type": "code",
   "execution_count": 12,
   "id": "12d0f5c2",
   "metadata": {},
   "outputs": [
    {
     "name": "stdout",
     "output_type": "stream",
     "text": [
      "   -<--O   f3f40 [   1e+03 kg] Coffee, roasted\n",
      "    [   1 unit] Coffee, roasted\n",
      "       |        Stage: heat production, natural gas, at boiler condensing modulating >100kW\n",
      "       | -<--B*  1fdf5 [ 1.7e+03 MJ] Heat, natural gas\n",
      "       |        Stage: market for coffee, green bean\n",
      "       | -<--B*  79b52 [ 1.15e+03 kg] Coffee, green\n",
      "       |        Stage: market for electricity, low voltage\n",
      "       | -<--B*  ea483 [    76.4 kWh] Electricity\n",
      "       |        Stage: market for tap water\n",
      "       | -<--B*  32ddb [     384 kg] Water\n",
      "       x \n"
     ]
    }
   ],
   "source": [
    "# observed\n",
    "roast.show_tree(observed=True)"
   ]
  },
  {
   "cell_type": "code",
   "execution_count": 13,
   "id": "5087834e",
   "metadata": {},
   "outputs": [
    {
     "name": "stdout",
     "output_type": "stream",
     "text": [
      "Naming fragment 6113e307-bfec-43ae-8e15-1b1bbc373c2c -> coffee_ground\n",
      "Naming fragment d4a85f16-b0d3-4288-af8e-1929f3096f76 -> coffee_1_cup\n",
      "Naming fragment ae33dba1-ca1e-4e92-98ac-a50b82472d3d -> morning_coffee\n"
     ]
    },
    {
     "data": {
      "text/plain": [
       "<antelope_foreground.terminations.FlowTermination at 0x7f3bc632b190>"
      ]
     },
     "execution_count": 13,
     "metadata": {},
     "output_type": "execute_result"
    }
   ],
   "source": [
    "# more coffee parts\n",
    "cg = B.new_link('Coffee, ground', 'mass', 'Output', 1.0)\n",
    "B.new_link('Coffee, roasted', 'mass', 'Input', balance=True, parent=cg).terminate(roast)\n",
    "B.new_link('Electricity, grinding', 'kWh', 'Input', 0.35, parent=cg).terminate(B.terms('elec_wecc'))\n",
    "\n",
    "brew = B.new_link('Coffee, 1 cup', 'volume', 'Output', 180, units='mL')\n",
    "B.new_link('Coffee, ground', 'mass', 'Input', 0.010, parent=brew, stage='Ground Coffee').terminate(cg, descend=False)\n",
    "filt = B.new_link('Coffee filter', 'Count', 'Input', 0.2, parent=brew)\n",
    "filt.flow.characterize(mass, 0.0017)\n",
    "B.new_link('New Coffee Filter', 'mass', 'Input', 0.0017, parent=filt, stage='Filter').terminate(B.terms('tissue_paper'))\n",
    "\n",
    "B.new_link('Electricity, at user', 'kWh', 'Input', 0.175, parent=brew, stage='Electricity').terminate(B.terms('elec_wecc'))\n",
    "water = B.new_link('Water, at user', 'volume', 'Input', 190, units='mL', parent=brew, stage='Tap water')\n",
    "water.flow.characterize(mass, 1000.0)\n",
    "water.terminate(B.terms('tap_water'))\n",
    "\n",
    "B.new_link('Spent coffee grounds', 'mass', 'Output', balance=True, parent=brew, stage='Waste to landfill').terminate(B.terms('landfill'))  # OMG 'balance' is a direction\n",
    "\n",
    "coffee = B.new_link('Morning coffee', 'Items', 'Output', 1.0)\n",
    "B.new_link('Coffee', 'volume', 'Input', 330, units='mL', parent=coffee).terminate(brew)\n",
    "B.new_link('Sugar', 'mass', 'Input', 0.015, parent=coffee, stage='Sugar').terminate(B.terms('sugar'))\n"
   ]
  },
  {
   "cell_type": "markdown",
   "id": "3ffb2ed0",
   "metadata": {},
   "source": [
    "## Nested fragments\n",
    "The `#` indicates a termination to another fragment (sub-model)"
   ]
  },
  {
   "cell_type": "code",
   "execution_count": 14,
   "id": "ee2fb360",
   "metadata": {},
   "outputs": [
    {
     "name": "stdout",
     "output_type": "stream",
     "text": [
      "   -<--O   ae33d [       1 Item(s)] Morning coffee\n",
      "    [   1 unit] Morning coffee\n",
      "       | -<--#:: eec26 [ 0.00033 m3] Coffee\n",
      "       |        Stage: Sugar\n",
      "       | -<--B*  68ccb [   0.015 kg] Sugar\n",
      "       x \n"
     ]
    }
   ],
   "source": [
    "coffee.show_tree(observed=True)"
   ]
  },
  {
   "cell_type": "markdown",
   "id": "652fa5a7",
   "metadata": {},
   "source": [
    "## Traversal\n",
    "Once a model is constructed as a tree, the _activity levels_ of each node can be determined via traversal.  The magnitude of each node is equal to the magnitude of the parent node, times the exchange value of the link."
   ]
  },
  {
   "cell_type": "code",
   "execution_count": 15,
   "id": "fc2f2620",
   "metadata": {},
   "outputs": [
    {
     "name": "stdout",
     "output_type": "stream",
     "text": [
      " [00] ae33d           1 [ Input] -O   morning_coffee\n",
      " [01] eec26           1 [ Input] -#:: coffee_1_cup\n",
      " [02] d4a85           1 [ Input] -O   coffee_1_cup\n",
      " [03] 0f687           1 [ Input] -#   coffee_ground\n",
      " [04] 40c78           1 [ Input] -O   Coffee filter\n",
      " [05] 763b3           1 [ Input] -B*  market for tissue paper [GLO]\n",
      " [06] 0b585           1 [ Input] -B*  market for electricity, low voltage [US-WECC]\n",
      " [07] 14fbe           1 [ Input] -B*  market for tap water [RoW]\n",
      " [08] d8ffa       1e+03 [Output] -B*  treatment of municipal solid waste, sanitary landfill [RoW]\n",
      " [09] 68ccb           1 [ Input] -B*  market for sugar, from sugarcane [GLO]\n"
     ]
    }
   ],
   "source": [
    "# unobserved traversal\n",
    "_=enum(coffee.traverse())"
   ]
  },
  {
   "cell_type": "code",
   "execution_count": 16,
   "id": "e4051239",
   "metadata": {},
   "outputs": [
    {
     "name": "stdout",
     "output_type": "stream",
     "text": [
      " [00] ae33d           1 [ Input] -O   morning_coffee\n",
      " [01] eec26     0.00033 [ Input] -#:: coffee_1_cup\n",
      " [02] d4a85     0.00033 [ Input] -O   coffee_1_cup\n",
      " [03] 0f687      0.0183 [ Input] -#   coffee_ground\n",
      " [04] 40c78       0.367 [ Input] -O   Coffee filter\n",
      " [05] 763b3    0.000623 [ Input] -B*  market for tissue paper [GLO]\n",
      " [06] 0b585       0.321 [ Input] -B*  market for electricity, low voltage [US-WECC]\n",
      " [07] 14fbe    0.000348 [ Input] -B*  market for tap water [RoW]\n",
      " [08] d8ffa       0.367 [Output] -B*  treatment of municipal solid waste, sanitary landfill [RoW]\n",
      " [09] 68ccb       0.015 [ Input] -B*  market for sugar, from sugarcane [GLO]\n"
     ]
    }
   ],
   "source": [
    "# observed traversal\n",
    "_=enum(coffee.traverse(True))"
   ]
  },
  {
   "cell_type": "markdown",
   "id": "7f42e150",
   "metadata": {},
   "source": [
    "## LCIA\n",
    "LCIA information is stored in the quantity interface.  "
   ]
  },
  {
   "cell_type": "code",
   "execution_count": 17,
   "id": "86b8166d",
   "metadata": {},
   "outputs": [
    {
     "name": "stdout",
     "output_type": "stream",
     "text": [
      "QQQQQQQQQQQQQQQQQQ local.lcia.traci.2.1 QQQQQQQQQQQQQQQQQQ\n",
      "local.lcia.traci.2.1: /data/LCI/TRACI/traci_2_1_2014_dec_10_0.xlsx\n",
      "local.lcia.traci.2.1: Setting NSUUID (True) 150e35c3-ac4a-485b-826b-a41807ddf43a\n",
      "Loading workbook /data/LCI/TRACI/traci_2_1_2014_dec_10_0.xlsx\n"
     ]
    },
    {
     "name": "stderr",
     "output_type": "stream",
     "text": [
      "/data/virtualenvs/antelope/lib/python3.9/site-packages/openpyxl/reader/drawings.py:59: UserWarning: wmf image format is not supported so the image is being dropped\n",
      "  warn(msg)\n"
     ]
    },
    {
     "name": "stdout",
     "output_type": "stream",
     "text": [
      "Applying stored configuration\n",
      "Applying context hint local.lcia.traci.2.1:air => to air\n",
      "Applying context hint local.lcia.traci.2.1:water => to water\n",
      "Applying configuration to Traci21Factors with 11 entities at /data/LCI/TRACI/traci_2_1_2014_dec_10_0.xlsx\n",
      " [00] [local.lcia.traci.2.1] Acidification Air [kg SO2 eq] [LCIA]\n",
      " [01] [local.lcia.traci.2.1] Ecotoxicity, freshwater [CTUeco] [LCIA]\n",
      " [02] [local.lcia.traci.2.1] Eutrophication Air [kg N eq] [LCIA]\n",
      " [03] [local.lcia.traci.2.1] Eutrophication Water [kg N eq] [LCIA]\n",
      " [04] [local.lcia.traci.2.1] Global Warming Air [kg CO2 eq] [LCIA]\n",
      " [05] [local.lcia.traci.2.1] Human Health Particulates Air [PM2.5 eq] [LCIA]\n",
      " [06] [local.lcia.traci.2.1] Human health toxicity, cancer [CTUcancer] [LCIA]\n",
      " [07] [local.lcia.traci.2.1] Human health toxicity, non-cancer [CTUnoncancer] [LCIA]\n",
      " [08] [local.lcia.traci.2.1] Ozone Depletion Air [kg CFC-11 eq] [LCIA]\n",
      " [09] [local.lcia.traci.2.1] Smog Air [kg O3 eq] [LCIA]\n"
     ]
    },
    {
     "name": "stderr",
     "output_type": "stream",
     "text": [
      "/data/virtualenvs/antelope/lib/python3.9/site-packages/openpyxl/worksheet/header_footer.py:48: UserWarning: Cannot parse header or footer so it will be ignored\n",
      "  warn(\"\"\"Cannot parse header or footer so it will be ignored\"\"\")\n"
     ]
    }
   ],
   "source": [
    "# don't mind the XLSX warnings- the TRACI spreadsheet contains fancy visual features that are not supported\n",
    "qs = enum(cat.query('local.lcia.traci.2.1').lcia_methods())"
   ]
  },
  {
   "cell_type": "code",
   "execution_count": 18,
   "id": "c1cb1057",
   "metadata": {},
   "outputs": [
    {
     "name": "stdout",
     "output_type": "stream",
     "text": [
      "QuantityRef catalog reference (Global Warming Air)\n",
      "origin: local.lcia.traci.2.1\n",
      "   UUID: 9304410a-9dfc-3c85-8a30-c548893097c3\n",
      "   Name: Global Warming Air\n",
      "Comment: \n",
      "referenceUnit: kg CO2 eq\n",
      "==Local Fields==\n",
      "           Indicator: kg CO2 eq\n",
      "          local_Name: Global Warming Air\n",
      "       local_Comment: \n",
      "local_UnitConversion: {'kg CO2 eq': 1.0}\n",
      "        local_Method: TRACI 2.1\n",
      "      local_Category: Global Warming Air\n",
      "     local_Indicator: kg CO2 eq\n"
     ]
    }
   ],
   "source": [
    "qs[4].show()"
   ]
  },
  {
   "cell_type": "markdown",
   "id": "abb10ce4",
   "metadata": {},
   "source": [
    "## LCIA Computation\n",
    "Each node has a _unit score_ based on what the node is terminated to.  The inner product of node weights and unit scores equals the LCIA result.  Information is only retrieved when required, and computational (LCI) results and flow characterization factors are cached."
   ]
  },
  {
   "cell_type": "code",
   "execution_count": 19,
   "id": "d4f53f8e",
   "metadata": {},
   "outputs": [
    {
     "name": "stdout",
     "output_type": "stream",
     "text": [
      "QQQQQQQQQQQQQQQQQQ ecoinvent.3.8.cutoff QQQQQQQQQQQQQQQQQQ\n",
      "ecoinvent.3.8.cutoff: /data/LCI/aws-data/ecoinvent.3.8.cutoff/background/TarjanBackground/8aaaf7f46f8d75939cadb7c4e297ebd831eff443.mat\n",
      "ecoinvent.3.8.cutoff: Setting NSUUID (False) None\n",
      "Loading JSON data from /data/LCI/aws-data/ecoinvent.3.8.cutoff/background/TarjanBackground/8aaaf7f46f8d75939cadb7c4e297ebd831eff443.mat.ordering.json.gz:\n",
      "completed 63 iterations\n",
      "Imported 91 factors for [local.lcia.traci.2.1] Global Warming Air [kg CO2 eq] [LCIA]\n",
      "completed 67 iterations\n",
      "completed 64 iterations\n",
      "completed 51 iterations\n",
      "completed 64 iterations\n",
      "completed 60 iterations\n",
      "completed 65 iterations\n",
      "[local.lcia.traci.2.1] Global Warming Air [kg CO2 eq] [LCIA] kg CO2 eq\n",
      "------------------------------------------------------------\n",
      "     0.129 =      0.321 x      0.403 | 0b585       0.321 [ Input] -B*  market for electricity, low voltage [US-WECC]\n",
      "     0.121 =     0.0183 x       6.61 | 0f687      0.0183 [ Input] -#   coffee_ground\n",
      "    0.0177 =      0.367 x     0.0482 | d8ffa       0.367 [Output] -B*  treatment of municipal solid waste, sanitary landfill [RoW]\n",
      "   0.00794 =      0.015 x      0.529 | 68ccb       0.015 [ Input] -B*  market for sugar, from sugarcane [GLO]\n",
      "   0.00173 =   0.000623 x       2.77 | 763b3    0.000623 [ Input] -B*  market for tissue paper [GLO]\n",
      "  0.000353 =      0.348 x    0.00101 | 14fbe    0.000348 [ Input] -B*  market for tap water [RoW]\n",
      "==========\n",
      "     0.278 [local.lcia.traci.2.1] Global Warming Air [kg CO2 eq] [LCIA]\n"
     ]
    }
   ],
   "source": [
    "fg.get('morning_coffee').fragment_lcia(qs[4]).show_components()"
   ]
  },
  {
   "cell_type": "markdown",
   "id": "9c2f406a",
   "metadata": {},
   "source": [
    "## Aggregation\n",
    "You can control the information revealed in traversal and fragment LCIA by specifying whether the traversal \"descends\" through each link.  The descend setting is indicated by `::` in the ASCII drawing, while a non-descend is indicated by the absence of those marks."
   ]
  },
  {
   "cell_type": "code",
   "execution_count": 20,
   "id": "1599e0a5",
   "metadata": {},
   "outputs": [
    {
     "name": "stdout",
     "output_type": "stream",
     "text": [
      "   -<--O   ae33d [       1 Item(s)] Morning coffee\n",
      "    [   1 unit] Morning coffee\n",
      "       | -<--#:: eec26 [       1 m3] Coffee\n",
      "       |        Stage: Sugar\n",
      "       | -<--B*  68ccb [       1 kg] Sugar\n",
      "       x \n"
     ]
    }
   ],
   "source": [
    "coffee.show_tree()"
   ]
  },
  {
   "cell_type": "code",
   "execution_count": 21,
   "id": "196ebbd4",
   "metadata": {},
   "outputs": [],
   "source": [
    "# interactively specify descent\n",
    "next(coffee.children_with_flow(fg['flow_coffee'])).term.descend=False"
   ]
  },
  {
   "cell_type": "code",
   "execution_count": 22,
   "id": "87cd1f6e",
   "metadata": {},
   "outputs": [
    {
     "name": "stdout",
     "output_type": "stream",
     "text": [
      "   -<--O   ae33d [       1 Item(s)] Morning coffee\n",
      "    [   1 unit] Morning coffee\n",
      "       | -<--#   eec26 [       1 m3] Coffee\n",
      "       |        Stage: Sugar\n",
      "       | -<--B*  68ccb [       1 kg] Sugar\n",
      "       x \n"
     ]
    }
   ],
   "source": [
    "# the `::` have gone away\n",
    "coffee.show_tree()"
   ]
  },
  {
   "cell_type": "code",
   "execution_count": 23,
   "id": "3528fa70",
   "metadata": {},
   "outputs": [
    {
     "name": "stdout",
     "output_type": "stream",
     "text": [
      "[local.lcia.traci.2.1] Global Warming Air [kg CO2 eq] [LCIA] kg CO2 eq\n",
      "------------------------------------------------------------\n",
      "      0.27 =       1.83 x      0.147 | eec26     0.00033 [ Input] -#   coffee_1_cup\n",
      "   0.00794 =      0.015 x      0.529 | 68ccb       0.015 [ Input] -B*  market for sugar, from sugarcane [GLO]\n",
      "==========\n",
      "     0.278 [local.lcia.traci.2.1] Global Warming Air [kg CO2 eq] [LCIA]\n"
     ]
    }
   ],
   "source": [
    "fg.get('morning_coffee').fragment_lcia(qs[4]).show_components()"
   ]
  }
 ],
 "metadata": {
  "kernelspec": {
   "display_name": "antelope",
   "language": "python",
   "name": "antelope"
  },
  "language_info": {
   "codemirror_mode": {
    "name": "ipython",
    "version": 3
   },
   "file_extension": ".py",
   "mimetype": "text/x-python",
   "name": "python",
   "nbconvert_exporter": "python",
   "pygments_lexer": "ipython3",
   "version": "3.9.7"
  }
 },
 "nbformat": 4,
 "nbformat_minor": 5
}
