{
 "cells": [
  {
   "cell_type": "code",
   "execution_count": 1,
   "id": "828a168b",
   "metadata": {},
   "outputs": [],
   "source": [
    "from antelope_foreground import ForegroundCatalog\n",
    "from antelope import enum  # utility for listing iterable results for interactive use"
   ]
  },
  {
   "cell_type": "code",
   "execution_count": 2,
   "id": "4cb814e5",
   "metadata": {},
   "outputs": [
    {
     "name": "stdout",
     "output_type": "stream",
     "text": [
      "merging Emissions into Emissions\n",
      "merging Resources into Resources\n",
      "Loading JSON data from /data/GitHub/Antelope/demo/catalog/reference-quantities.json:\n",
      "local.qdb: /data/GitHub/Antelope/demo/catalog/reference-quantities.json\n",
      "local.qdb: Setting NSUUID (False) 77833297-6780-49bf-a61a-0cb707dce700\n",
      "local.qdb: /data/GitHub/lca-tools/lcatools/qdb/data/elcd_reference_quantities.json\n",
      "26 new quantity entities added (26 total)\n",
      "6 new flow entities added (6 total)\n"
     ]
    }
   ],
   "source": [
    "def lca_init():\n",
    "    cat = ForegroundCatalog('catalog', strict_clookup=False, quell_biogenic_co2=True)\n",
    "    cat.lcia_engine.add_synonym('number of items', 'Items')\n",
    "    cat.lcia_engine.add_synonym('number of items', 'Count')\n",
    "    cat.lcia_engine.get_canonical('volume')['UnitConversion']['mL'] = 1e6\n",
    "    return cat\n",
    "\n",
    "cat = lca_init()\n",
    "mass = cat.get_canonical('mass')\n",
    "if 'coffee_demo' in cat.foregrounds:\n",
    "    cat.delete_foreground('coffee_demo')  # cleanup for fresh start"
   ]
  },
  {
   "cell_type": "markdown",
   "id": "118f1ab9",
   "metadata": {},
   "source": [
    "## origins and interfaces\n",
    "A catalog maps queries to resources. The queries come in terms of an _origin_ (which is an \"agreed-on data source\") and a _request_.  Different classes of requests are handled by different _interfaces_ which include:\n",
    "\n",
    " * index : search, retrieve, metadata\n",
    " * exchange : quantitative information about related flows through processes\n",
    " * quantity : quantitative information about related quantities (measures) of flows\n",
    " * background : graph ordering, matrix construction + calculation\n",
    " * foreground : model building\n",
    " \n",
    "`qdb` is the local quantity database."
   ]
  },
  {
   "cell_type": "code",
   "execution_count": 3,
   "id": "df1e8c7b",
   "metadata": {},
   "outputs": [
    {
     "name": "stdout",
     "output_type": "stream",
     "text": [
      "ecoinvent.2.2 [basic, exchange]\n",
      "ecoinvent.3.7.1.cutoff [background, basic, exchange, index]\n",
      "ecoinvent.3.8.cutoff [background, basic, exchange, index]\n",
      "lcacommons.useeio.2.0.1 [background, basic, exchange, index]\n",
      "lcacommons.uslci.fy20.q4 [basic, exchange]\n",
      "lcacommons.uslci.fy21.q1 [background, basic, exchange, index, quantity]\n",
      "local.lcia.traci.2.1 [basic, index, quantity]\n",
      "local.qdb [index, quantity]\n",
      "openlca.lcia.2.1.1 [basic, index, quantity]\n",
      "openlca.refdata.2.1 [basic, index, quantity]\n",
      "u-cuenca.ecoinvent.2.2 [background, basic, exchange, index]\n"
     ]
    }
   ],
   "source": [
    "cat.show_interfaces()"
   ]
  },
  {
   "cell_type": "markdown",
   "id": "f48adbe3",
   "metadata": {},
   "source": [
    "## Foregrounds\n",
    "Foregrounds are the basic container for organizing models."
   ]
  },
  {
   "cell_type": "code",
   "execution_count": 4,
   "id": "a7267e22",
   "metadata": {},
   "outputs": [
    {
     "name": "stdout",
     "output_type": "stream",
     "text": [
      "QQQQQQQQQQQQQQQQQQ coffee_demo QQQQQQQQQQQQQQQQQQ\n",
      "Found Antelope providers:\n",
      "antelope_core.providers:IlcdArchive\n",
      "antelope_core.providers:IlcdLcia\n",
      "antelope_core.providers:EcospoldV2Archive\n",
      "antelope_core.providers:EcospoldV1Archive\n",
      "antelope_core.providers:EcoinventLcia\n",
      "antelope_core.providers:OpenLcaJsonLdArchive\n",
      "antelope_core.providers:Traci21Factors\n",
      "antelope_background.providers:TarjanBackground\n",
      "antelope_background.providers:Background\n",
      "antelope_foreground.providers:AntelopeV1Client\n",
      "antelope_foreground.providers:LcForeground\n",
      "coffee_demo: /data/GitHub/Antelope/demo/catalog/coffee_demo\n",
      "coffee_demo: Setting NSUUID (None) None\n",
      "Loading /data/GitHub/Antelope/demo/catalog/coffee_demo\n",
      "0 new fragment entities added (0 total)\n"
     ]
    }
   ],
   "source": [
    "fg = cat.create_foreground('coffee_demo')"
   ]
  },
  {
   "cell_type": "markdown",
   "id": "3037d3cd",
   "metadata": {},
   "source": [
    "## Helper class\n",
    "This class performs / simplifies contextual tasks that casual users would perform graphically"
   ]
  },
  {
   "cell_type": "code",
   "execution_count": 5,
   "id": "ba5a4a28",
   "metadata": {},
   "outputs": [],
   "source": [
    "tr = str.maketrans(' ', '_', ',[]()*&^%$#@')\n",
    "\n",
    "def _flow_to_ref(name):\n",
    "    n = name.translate(tr).lower()\n",
    "    if n.startswith('flow_'):\n",
    "        fl = n\n",
    "    else:\n",
    "        fl = 'flow_' + n\n",
    "    return fl\n",
    "\n",
    "\n",
    "class QuickModelBuilder(object):\n",
    "    \"\"\"\n",
    "    Convenience class for building models.  Performs the following tasks:\n",
    "    \n",
    "     - maintain a list of references to background processes or 'terminations' in active use (or via query)\n",
    "     - create or retrieve flows an\n",
    "     - create fragments comprising those flows\n",
    "     - terminate those fragments to background processes\n",
    "    \"\"\"\n",
    "    \n",
    "    def set_terms(self, terms):\n",
    "        if terms:\n",
    "            for k, v in terms.items():\n",
    "                self._terms[k] = self.fg.catalog_ref(*v)\n",
    "    \n",
    "    def terms(self, term):\n",
    "        return self._terms[term]\n",
    "\n",
    "    def __init__(self, fg, terms=None):\n",
    "        self._fg = fg\n",
    "        self._terms = {}\n",
    "        self.set_terms(terms)\n",
    "\n",
    "    @property\n",
    "    def fg(self):\n",
    "        return self._fg\n",
    "\n",
    "    def _new_reference_fragment(self, flow, direction, external_ref):\n",
    "        frag = self.fg[external_ref]\n",
    "        if frag is None:\n",
    "            frag = self.fg.new_fragment(flow, direction, external_ref=external_ref)\n",
    "\n",
    "        return frag\n",
    "\n",
    "    def new_link(self, flow_name, ref_quantity, direction, amount=None, units=None, flow_ref=None, parent=None, name=None,\n",
    "                 stage=None,\n",
    "                 prefix='frag',\n",
    "                 balance=None):\n",
    "        \"\"\"\n",
    "        Create or retrieve a flow, and create a directed link [fragment] comprising that flow.  \n",
    "        \n",
    "        The link is either a reference fragment (no parent supplied) or a child fragment (yes parent supplied).\n",
    "        \n",
    "        Reference fragments must be named (auto-generated from flow name if none is given)\n",
    "        \n",
    "        examples:\n",
    "        \n",
    "        mass = cat.get_canonical('mass')\n",
    "        \n",
    "        k = self.new_link('X-2000 Widget', 'number of items', 'Output', amount=1.0, name='x2k-widget')\n",
    "        k.flow.characterize(mass, 450.0)\n",
    "        l = self.new_link('Widget goop', 'mass', 'Input', amount=434.0, units='kg', parent=k)\n",
    "        m = self.new_link('Widget chunks', 'mass', 'Input', balance=True, parent=k)\n",
    "\n",
    "        When this fragment is traversed, the inflow of widget chunks will be dynamically computed to be 16 kg.\n",
    "\n",
    "        l.terminate(self.terms('widget-goop-production'))\n",
    "        m.terminate(self.terms('widget-chunk-production'))\n",
    "        \n",
    "        This designates some other model as the source of information about the two respective inflows.\n",
    "\n",
    "        :param flow_name:\n",
    "        :param ref_quantity: of flow\n",
    "        :param direction: of fragment with respect to parent (or self if no parent)\n",
    "        :param amount:\n",
    "        :param units:\n",
    "        :param flow_ref:\n",
    "        :param parent:\n",
    "        :param name:\n",
    "        :param stage:\n",
    "        :param prefix: what to add to the auto-name in order to\n",
    "        :param balance: direction='balance' should be equivalent;; direction is irrelevant under balance\n",
    "        :return:\n",
    "        \"\"\"\n",
    "        if flow_ref is None:\n",
    "            flow_ref = _flow_to_ref(flow_name)\n",
    "\n",
    "        flow = self.fg.add_or_retrieve(flow_ref, ref_quantity, flow_name)\n",
    "\n",
    "        external_ref = name or None\n",
    "        if parent is None:\n",
    "            if flow_ref.startswith('flow_'):\n",
    "                auto_name = flow_ref[5:]\n",
    "            else:\n",
    "                auto_name = '%s_%s' % (prefix, flow_ref)\n",
    "            external_ref = external_ref or auto_name\n",
    "\n",
    "            frag = self._new_reference_fragment(flow, direction, external_ref)\n",
    "            self.fg.observe(frag, exchange_value=amount, units=units)\n",
    "        else:\n",
    "            if direction == 'balance':\n",
    "                balance = True\n",
    "            if balance:\n",
    "                frag = self.fg.new_fragment(flow, direction, parent=parent, balance=True)\n",
    "            else:\n",
    "                frag = self.fg.new_fragment(flow, direction, value=1.0, parent=parent, external_ref=external_ref)\n",
    "                self.fg.observe(frag, exchange_value=amount, units=units)\n",
    "\n",
    "        if stage:\n",
    "            frag['StageName'] = stage\n",
    "\n",
    "        return frag\n"
   ]
  },
  {
   "cell_type": "code",
   "execution_count": 6,
   "id": "d3aa11bd",
   "metadata": {},
   "outputs": [],
   "source": [
    "# \"terminations\" or \"provider\" activities, drawn from the ecoinvent database.\n",
    "# these were obtained through manual [expert] review and data selection\n",
    "TERMS = {\n",
    "    'coffee_green': ['ecoinvent.3.8.cutoff', '40cd93ba-b97f-43e5-8bbd-f86e34cf1d4d'],\n",
    "    'elec_wecc': ['ecoinvent.3.8.cutoff', '56c40e26-3740-4973-916e-3999d997ea60'],\n",
    "    'ng_mj': ['ecoinvent.3.8.cutoff', '242162aa-17fb-4e5d-923a-899b5b7bb864'],\n",
    "    'ng_mj_high': ['ecoinvent.3.8.cutoff', '44e62980-8489-4a80-8ecb-fca6a12e2d05'],\n",
    "    'tissue_paper': ['ecoinvent.3.8.cutoff', '6f123135-58e0-4e4c-b556-19d5e71ea15e'],\n",
    "    'sugar': ['ecoinvent.3.8.cutoff', 'e24d837f-eabb-41df-b282-c97af565b6ca'],\n",
    "    'soap': ['ecoinvent.3.8.cutoff',  '21abc849-d8aa-4151-b063-b10df257abfc'],\n",
    "    'tap_water': ['ecoinvent.3.8.cutoff', 'ac596c5b-7779-4a51-9c5f-9ec2e0025d6d'],\n",
    "    'landfill': ['ecoinvent.3.8.cutoff', '37fecf1c-c830-4bff-a8fe-76aa79d7ff2d']\n",
    "}\n"
   ]
  },
  {
   "cell_type": "code",
   "execution_count": 7,
   "id": "d3b1f90d",
   "metadata": {},
   "outputs": [
    {
     "name": "stdout",
     "output_type": "stream",
     "text": [
      "QQQQQQQQQQQQQQQQQQ ecoinvent.3.8.cutoff QQQQQQQQQQQQQQQQQQ\n",
      "Loading JSON data from /data/LCI/aws-data/ecoinvent.3.8.cutoff/index/json/8aaaf7f46f8d75939cadb7c4e297ebd831eff443.json.gz:\n",
      "ecoinvent.3.8.cutoff.index.20220509: /data/LCI/aws-data/ecoinvent.3.8.cutoff/index/json/8aaaf7f46f8d75939cadb7c4e297ebd831eff443.json.gz\n",
      "ecoinvent.3.8.cutoff.index.20220509: Setting NSUUID (None) None\n",
      "ecoinvent.3.8.cutoff.index.20220509: <source removed>\n",
      "ecoinvent.3.8.cutoff: /data/LCI/aws-data/ecoinvent.3.8.cutoff/index/json/8aaaf7f46f8d75939cadb7c4e297ebd831eff443.json.gz\n",
      "ecoinvent.3.8.cutoff: /data/LCI/aws-data/ecoinvent.3.8.cutoff/exchange/EcospoldV2Archive/ecoinvent 3.8_cutoff_ecoSpold02.zip\n",
      "20 new quantity entities added (20 total)\n",
      "5463 new flow entities added (5463 total)\n",
      "17910 new process entities added (17910 total)\n",
      "Applying stored configuration\n",
      "Applying quantity hint EcoSpold Quantity m2 -> Area\n",
      "Applying context hint ecoinvent.3.8.cutoff.index.20220509:water => to water\n",
      "Applying context hint ecoinvent.3.8.cutoff:water => to water\n",
      "Applying quantity hint EcoSpold Quantity m2*year -> Area*time\n",
      "Applying context hint ecoinvent.3.8.cutoff.index.20220509:air => to air\n",
      "Applying context hint ecoinvent.3.8.cutoff:air => to air\n",
      "Applying quantity hint EcoSpold Quantity m3 -> Volume\n",
      "Applying quantity hint EcoSpold Quantity MJ -> Net Calorific Value\n"
     ]
    }
   ],
   "source": [
    "B = QuickModelBuilder(fg, terms=TERMS)"
   ]
  },
  {
   "cell_type": "markdown",
   "id": "7caf62f4",
   "metadata": {},
   "source": [
    "## Model Construction\n",
    "Here we actually specify the models by building connected links. We start with one reference fragment, and then add child fragments that use it as the parent. Each child fragment is terminated to a process named above in `TERMS`."
   ]
  },
  {
   "cell_type": "code",
   "execution_count": 8,
   "id": "de3d68fc",
   "metadata": {},
   "outputs": [
    {
     "name": "stdout",
     "output_type": "stream",
     "text": [
      "Naming fragment 2a2707a5-2b90-48da-9665-61546a906a9b -> coffee_roasted\n"
     ]
    },
    {
     "data": {
      "text/plain": [
       "<antelope_foreground.terminations.FlowTermination at 0x7f731f9d1a90>"
      ]
     },
     "execution_count": 8,
     "metadata": {},
     "output_type": "execute_result"
    }
   ],
   "source": [
    "## coffee roasting\n",
    "# https://link.springer.com/article/10.1007/s11367-019-01719-2/tables/2\n",
    "roast = B.new_link('Coffee, roasted', 'mass', 'Output', 1000.0)  # default unit is kg\n",
    "B.new_link('Coffee, green', 'mass', 'Input', 1152.0, parent=roast).terminate(B.terms('coffee_green'))\n",
    "B.new_link('Electricity', 'kWh', 'Input', 275, units='MJ', parent=roast).terminate(B.terms('elec_wecc'))\n",
    "B.new_link('Heat, natural gas', 'net calorific value', 'Input', 1702, units='MJ',\n",
    "              parent=roast).terminate(B.terms('ng_mj_high'))\n",
    "B.new_link('Water', 'mass', 'Input', 384, units='kg', parent=roast).terminate(B.terms('tap_water'))\n"
   ]
  },
  {
   "cell_type": "code",
   "execution_count": 9,
   "id": "e27f50b5",
   "metadata": {},
   "outputs": [
    {
     "name": "stdout",
     "output_type": "stream",
     "text": [
      "( ** ref) -<- 2a270 -<- -O    [   1 kg] Coffee, roasted {coffee_roasted}\n",
      "LcFragment Entity (ref coffee_roasted)\n",
      "origin: coffee_demo\n",
      "reference: None\n",
      "     Name: Coffee, roasted\n",
      "  Comment: \n",
      "StageName: \n",
      "Exchange values: \n",
      "              Cached: 1\n",
      "            Observed: 1000\n",
      "\n",
      "Balance flow: False\n",
      "Terminations: \n",
      "            Scenario  Termination\n",
      "                None: -O   Foreground\n"
     ]
    }
   ],
   "source": [
    "roast.show()"
   ]
  },
  {
   "cell_type": "markdown",
   "id": "be918ecf",
   "metadata": {},
   "source": [
    "## Observed flows\n",
    "The software distinguishes between \"observed\" and \"unobserved\" exchanges.  Observation is essentially the act of measuring (or otherwise corroborating) the numerical amount of each exchange.  Unobserved exchanges express the structure of the graph (and may include data); observed exchanges express data.  \n",
    "\n",
    "Alternate observations can be made and tagged to different scenarios, which are specified during traversal. \n",
    "\n",
    "The model is suitably visualized as an ASCII-art tree diagram.  The `B*` indicate background processes."
   ]
  },
  {
   "cell_type": "code",
   "execution_count": 10,
   "id": "f769d483",
   "metadata": {},
   "outputs": [
    {
     "name": "stdout",
     "output_type": "stream",
     "text": [
      "   -<--O   2a270 [       1 kg] Coffee, roasted\n",
      "    [   1 unit] Coffee, roasted\n",
      "       |        Stage: heat production, natural gas, at boiler condensing modulating >100kW\n",
      "       | -<--B*  f5ffb [       1 MJ] Heat, natural gas\n",
      "       |        Stage: market for coffee, green bean\n",
      "       | -<--B*  718a8 [       1 kg] Coffee, green\n",
      "       |        Stage: market for electricity, low voltage\n",
      "       | -<--B*  e0179 [       1 kWh] Electricity\n",
      "       |        Stage: market for tap water\n",
      "       | -<--B*  c222f [       1 kg] Water\n",
      "       x \n"
     ]
    }
   ],
   "source": [
    "# unobserved \n",
    "roast.show_tree()"
   ]
  },
  {
   "cell_type": "code",
   "execution_count": 11,
   "id": "12bba0e3",
   "metadata": {},
   "outputs": [
    {
     "name": "stdout",
     "output_type": "stream",
     "text": [
      "   -<--O   2a270 [   1e+03 kg] Coffee, roasted\n",
      "    [   1 unit] Coffee, roasted\n",
      "       |        Stage: heat production, natural gas, at boiler condensing modulating >100kW\n",
      "       | -<--B*  f5ffb [ 1.7e+03 MJ] Heat, natural gas\n",
      "       |        Stage: market for coffee, green bean\n",
      "       | -<--B*  718a8 [ 1.15e+03 kg] Coffee, green\n",
      "       |        Stage: market for electricity, low voltage\n",
      "       | -<--B*  e0179 [    76.4 kWh] Electricity\n",
      "       |        Stage: market for tap water\n",
      "       | -<--B*  c222f [     384 kg] Water\n",
      "       x \n"
     ]
    }
   ],
   "source": [
    "# observed\n",
    "roast.show_tree(observed=True)"
   ]
  },
  {
   "cell_type": "markdown",
   "id": "a2639019",
   "metadata": {},
   "source": [
    "## More model components\n",
    "The `#` indicates a termination to another fragment (sub-model); in this case coffee roasting from above"
   ]
  },
  {
   "cell_type": "code",
   "execution_count": 12,
   "id": "d037a86a",
   "metadata": {},
   "outputs": [
    {
     "name": "stdout",
     "output_type": "stream",
     "text": [
      "Naming fragment 5633d414-e907-48f4-b68e-1485b42df9b4 -> coffee_ground\n",
      "   -<--O   5633d [       1 kg] Coffee, ground\n",
      "    [   1 unit] Coffee, ground\n",
      "       | -<--#:: 2bd01 (=      0 kg) Coffee, roasted\n",
      "       |        Stage: market for electricity, low voltage\n",
      "       | -<--B*  6df5e [*   0.35 kWh] Electricity, grinding\n",
      "       x \n"
     ]
    }
   ],
   "source": [
    "# grinding coffee requires roast coffee and electricity\n",
    "# note the balance flow\n",
    "cg = B.new_link('Coffee, ground', 'mass', 'Output', 1.0)\n",
    "B.new_link('Coffee, roasted', 'mass', 'Input', balance=True, parent=cg).terminate(roast)\n",
    "B.new_link('Electricity, grinding', 'kWh', 'Input', 0.35, parent=cg).terminate(B.terms('elec_wecc'))\n",
    "\n",
    "\n",
    "cg.show_tree(True)"
   ]
  },
  {
   "cell_type": "code",
   "execution_count": 13,
   "id": "e7db7e7a",
   "metadata": {},
   "outputs": [
    {
     "name": "stdout",
     "output_type": "stream",
     "text": [
      "Naming fragment 61e29fef-e562-4086-8685-de813fd4519a -> coffee_1_cup\n",
      "   -<--O   61e29 [*0.00018 m3] Coffee, 1 cup\n",
      "    [   1 unit] Coffee, 1 cup\n",
      "       | -<--O   84d87 [*    0.2 Item(s)] Coffee filter\n",
      "       |  [   1 unit] Coffee filter\n",
      "       |     |        Stage: Filter\n",
      "       |     | -<--B*  b40d8 [* 0.0017 kg] New Coffee Filter\n",
      "       |     x \n",
      "       |        Stage: Electricity\n",
      "       | -<--B*  0ec55 [*  0.175 kWh] Electricity, at user\n",
      "       |        Stage: Ground Coffee\n",
      "       | -<--#   b3b77 [*   0.01 kg] Coffee, ground\n",
      "       |        Stage: Tap water\n",
      "       | -<--B*  82f02 [*0.00019 m3] Water, at user\n",
      "       |        Stage: Waste to landfill\n",
      "       | =>=-B*  fc1c7 (=      0 kg) Spent coffee grounds\n",
      "       x \n"
     ]
    }
   ],
   "source": [
    "# brewing requires ground coffee, a fraction of a paper filter, electricity, water, and disposal\n",
    "brew = B.new_link('Coffee, 1 cup', 'volume', 'Output', 180, units='mL')\n",
    "brew.flow.characterize(mass, 1000.0)\n",
    "\n",
    "B.new_link('Coffee, ground', 'mass', 'Input', 0.010, parent=brew, stage='Ground Coffee').terminate(cg, descend=False)\n",
    "filt = B.new_link('Coffee filter', 'Count', 'Input', 0.2, parent=brew)\n",
    "filt.flow.characterize(mass, 0.0017)\n",
    "B.new_link('New Coffee Filter', 'mass', 'Input', 0.0017, parent=filt, stage='Filter').terminate(B.terms('tissue_paper'))\n",
    "\n",
    "B.new_link('Electricity, at user', 'kWh', 'Input', 0.175, parent=brew, stage='Electricity').terminate(B.terms('elec_wecc'))\n",
    "water = B.new_link('Water, at user', 'volume', 'Input', 190, units='mL', parent=brew, stage='Tap water')\n",
    "\n",
    "# We are going to calculate the weight of the waste flow using a mass balance... in order to do that,\n",
    "# we need the water flows (tap water and coffee) to be characterized w/r/t mass\n",
    "water.flow.characterize(mass, 1000.0)\n",
    "water.terminate(B.terms('tap_water'))\n",
    "\n",
    "B.new_link('Spent coffee grounds', 'mass', 'Output', balance=True, parent=brew, stage='Waste to landfill').terminate(B.terms('landfill'))  # OMG 'balance' is a direction\n",
    "\n",
    "\n",
    "\n",
    "\n",
    "brew.show_tree(True)"
   ]
  },
  {
   "cell_type": "code",
   "execution_count": 14,
   "id": "1cca28d2",
   "metadata": {},
   "outputs": [
    {
     "name": "stdout",
     "output_type": "stream",
     "text": [
      "Naming fragment 21dbd07e-c5dc-4ac9-9230-8c44d448b8ed -> morning_coffee\n"
     ]
    },
    {
     "data": {
      "text/plain": [
       "<antelope_foreground.terminations.FlowTermination at 0x7f731f977280>"
      ]
     },
     "execution_count": 14,
     "metadata": {},
     "output_type": "execute_result"
    }
   ],
   "source": [
    "coffee = B.new_link('Morning coffee', 'Items', 'Output', 1.0)\n",
    "B.new_link('Coffee', 'volume', 'Input', 330, units='mL', parent=coffee).terminate(brew)\n",
    "B.new_link('Sugar', 'mass', 'Input', 0.015, parent=coffee, stage='Sugar').terminate(B.terms('sugar'))\n"
   ]
  },
  {
   "cell_type": "code",
   "execution_count": 15,
   "id": "8cf9c4e2",
   "metadata": {},
   "outputs": [
    {
     "name": "stdout",
     "output_type": "stream",
     "text": [
      "   -<--O   21dbd [       1 Item(s)] Morning coffee\n",
      "    [   1 unit] Morning coffee\n",
      "       | -<--#:: 39ac2 [ 0.00033 m3] Coffee\n",
      "       |        Stage: Sugar\n",
      "       | -<--B*  8233b [   0.015 kg] Sugar\n",
      "       x \n"
     ]
    }
   ],
   "source": [
    "coffee.show_tree(observed=True)"
   ]
  },
  {
   "cell_type": "markdown",
   "id": "81d15ccb",
   "metadata": {},
   "source": [
    "## Traversal\n",
    "Once a model is constructed as a tree, the _activity levels_ of each node can be determined via traversal.  The magnitude of each node is equal to the magnitude of the parent node, times the exchange value of the link."
   ]
  },
  {
   "cell_type": "code",
   "execution_count": 16,
   "id": "273314de",
   "metadata": {},
   "outputs": [
    {
     "name": "stdout",
     "output_type": "stream",
     "text": [
      " [00] 21dbd           1 [ Input] -O   morning_coffee\n",
      " [01] 39ac2           1 [ Input] -#:: coffee_1_cup\n",
      " [02] 61e29           1 [ Input] -O   coffee_1_cup\n",
      " [03] b3b77           1 [ Input] -#   coffee_ground\n",
      " [04] 84d87           1 [ Input] -O   Coffee filter\n",
      " [05] b40d8           1 [ Input] -B*  market for tissue paper [GLO]\n",
      " [06] 0ec55           1 [ Input] -B*  market for electricity, low voltage [US-WECC]\n",
      " [07] 82f02           1 [ Input] -B*  market for tap water [RoW]\n",
      " [08] fc1c7           1 [Output] -B*  treatment of municipal solid waste, sanitary landfill [RoW]\n",
      " [09] 8233b           1 [ Input] -B*  market for sugar, from sugarcane [GLO]\n"
     ]
    }
   ],
   "source": [
    "# unobserved traversal\n",
    "_=enum(coffee.traverse())"
   ]
  },
  {
   "cell_type": "code",
   "execution_count": 17,
   "id": "58925254",
   "metadata": {},
   "outputs": [
    {
     "name": "stdout",
     "output_type": "stream",
     "text": [
      " [00] 21dbd           1 [ Input] -O   morning_coffee\n",
      " [01] 39ac2     0.00033 [ Input] -#:: coffee_1_cup\n",
      " [02] 61e29     0.00033 [ Input] -O   coffee_1_cup\n",
      " [03] b3b77      0.0183 [ Input] -#   coffee_ground\n",
      " [04] 84d87       0.367 [ Input] -O   Coffee filter\n",
      " [05] b40d8    0.000623 [ Input] -B*  market for tissue paper [GLO]\n",
      " [06] 0ec55       0.321 [ Input] -B*  market for electricity, low voltage [US-WECC]\n",
      " [07] 82f02    0.000348 [ Input] -B*  market for tap water [RoW]\n",
      " [08] fc1c7      0.0373 [Output] -B*  treatment of municipal solid waste, sanitary landfill [RoW]\n",
      " [09] 8233b       0.015 [ Input] -B*  market for sugar, from sugarcane [GLO]\n"
     ]
    }
   ],
   "source": [
    "# observed traversal\n",
    "_=enum(coffee.traverse(True))"
   ]
  },
  {
   "cell_type": "markdown",
   "id": "0253ed7d",
   "metadata": {},
   "source": [
    "Note the magnitude of the balance flow \"treatment of municipal solid waste, sanitary landfill\" of 0.0373 kg:\n",
    " - our \"coffee, 1 cup\" equals 180 mL of coffee\n",
    " - our \"morning coffee\" functional unit is 330 mL => \"coffee, 1 cup\" __node weight = 330/180 = 1.833__\n",
    " - the filter weight is __1.833__ (cups/FU) * 0.2 (filters/cup) * 0.0017 (weight/filter) = 0.6233 g\n",
    " - the coffee weight is __1.833__ (cups/FU) * 10 (g grounds/cup) = 18.33 g\n",
    " - the water weight is __1.833__ (cups/FU) * 190 mL = 348.3 g\n",
    " - the coffee out is 330 g\n",
    " - the electricity has no mass\n",
    "\n",
    "So the balance flow to landfill is (348.3 + 18.33 + 0.6233 - 330) = 37.25 g"
   ]
  },
  {
   "cell_type": "markdown",
   "id": "b16ae986",
   "metadata": {},
   "source": [
    "## LCIA\n",
    "LCIA information is stored in the quantity interface.  "
   ]
  },
  {
   "cell_type": "code",
   "execution_count": 18,
   "id": "3d60e9a0",
   "metadata": {},
   "outputs": [
    {
     "name": "stdout",
     "output_type": "stream",
     "text": [
      "QQQQQQQQQQQQQQQQQQ local.lcia.traci.2.1 QQQQQQQQQQQQQQQQQQ\n",
      "local.lcia.traci.2.1: /data/LCI/TRACI/traci_2_1_2014_dec_10_0.xlsx\n",
      "local.lcia.traci.2.1: Setting NSUUID (True) 150e35c3-ac4a-485b-826b-a41807ddf43a\n",
      "Loading workbook /data/LCI/TRACI/traci_2_1_2014_dec_10_0.xlsx\n"
     ]
    },
    {
     "name": "stderr",
     "output_type": "stream",
     "text": [
      "/data/virtualenvs/antelope/lib/python3.9/site-packages/openpyxl/reader/drawings.py:59: UserWarning: wmf image format is not supported so the image is being dropped\n",
      "  warn(msg)\n"
     ]
    },
    {
     "name": "stdout",
     "output_type": "stream",
     "text": [
      "Applying stored configuration\n",
      "Applying context hint local.lcia.traci.2.1:water => to water\n",
      "Applying context hint local.lcia.traci.2.1:air => to air\n",
      "Applying configuration to Traci21Factors with 11 entities at /data/LCI/TRACI/traci_2_1_2014_dec_10_0.xlsx\n",
      " [00] [local.lcia.traci.2.1] Acidification Air [kg SO2 eq] [LCIA]\n",
      " [01] [local.lcia.traci.2.1] Ecotoxicity, freshwater [CTUeco] [LCIA]\n",
      " [02] [local.lcia.traci.2.1] Eutrophication Air [kg N eq] [LCIA]\n",
      " [03] [local.lcia.traci.2.1] Eutrophication Water [kg N eq] [LCIA]\n",
      " [04] [local.lcia.traci.2.1] Global Warming Air [kg CO2 eq] [LCIA]\n",
      " [05] [local.lcia.traci.2.1] Human Health Particulates Air [PM2.5 eq] [LCIA]\n",
      " [06] [local.lcia.traci.2.1] Human health toxicity, cancer [CTUcancer] [LCIA]\n",
      " [07] [local.lcia.traci.2.1] Human health toxicity, non-cancer [CTUnoncancer] [LCIA]\n",
      " [08] [local.lcia.traci.2.1] Ozone Depletion Air [kg CFC-11 eq] [LCIA]\n",
      " [09] [local.lcia.traci.2.1] Smog Air [kg O3 eq] [LCIA]\n"
     ]
    },
    {
     "name": "stderr",
     "output_type": "stream",
     "text": [
      "/data/virtualenvs/antelope/lib/python3.9/site-packages/openpyxl/worksheet/header_footer.py:48: UserWarning: Cannot parse header or footer so it will be ignored\n",
      "  warn(\"\"\"Cannot parse header or footer so it will be ignored\"\"\")\n"
     ]
    }
   ],
   "source": [
    "# don't mind the XLSX warnings- the TRACI spreadsheet contains fancy visual features that are not supported\n",
    "qs = enum(cat.query('local.lcia.traci.2.1').lcia_methods())"
   ]
  },
  {
   "cell_type": "code",
   "execution_count": 19,
   "id": "1112c9a0",
   "metadata": {},
   "outputs": [
    {
     "name": "stdout",
     "output_type": "stream",
     "text": [
      "QuantityRef catalog reference (Global Warming Air)\n",
      "origin: local.lcia.traci.2.1\n",
      "   UUID: 9304410a-9dfc-3c85-8a30-c548893097c3\n",
      "   Name: Global Warming Air\n",
      "Comment: \n",
      "referenceUnit: kg CO2 eq\n",
      "==Local Fields==\n",
      "           Indicator: kg CO2 eq\n",
      "          local_Name: Global Warming Air\n",
      "       local_Comment: \n",
      "local_UnitConversion: {'kg CO2 eq': 1.0}\n",
      "        local_Method: TRACI 2.1\n",
      "      local_Category: Global Warming Air\n",
      "     local_Indicator: kg CO2 eq\n"
     ]
    }
   ],
   "source": [
    "qs[4].show()"
   ]
  },
  {
   "cell_type": "markdown",
   "id": "0685d9a0",
   "metadata": {},
   "source": [
    "## LCIA Computation\n",
    "Each node has a _unit score_ based on what the node is terminated to.  The inner product of node weights and unit scores equals the LCIA result.  Information is only retrieved when required, and computational (LCI) results and flow characterization factors are cached."
   ]
  },
  {
   "cell_type": "code",
   "execution_count": 20,
   "id": "6697e17c",
   "metadata": {},
   "outputs": [
    {
     "name": "stdout",
     "output_type": "stream",
     "text": [
      "QQQQQQQQQQQQQQQQQQ ecoinvent.3.8.cutoff QQQQQQQQQQQQQQQQQQ\n",
      "ecoinvent.3.8.cutoff: /data/LCI/aws-data/ecoinvent.3.8.cutoff/background/TarjanBackground/8aaaf7f46f8d75939cadb7c4e297ebd831eff443.mat\n",
      "ecoinvent.3.8.cutoff: Setting NSUUID (False) None\n",
      "Loading JSON data from /data/LCI/aws-data/ecoinvent.3.8.cutoff/background/TarjanBackground/8aaaf7f46f8d75939cadb7c4e297ebd831eff443.mat.ordering.json.gz:\n",
      "completed 63 iterations\n",
      "Imported 91 factors for [local.lcia.traci.2.1] Global Warming Air [kg CO2 eq] [LCIA]\n",
      "completed 67 iterations\n",
      "completed 64 iterations\n",
      "completed 51 iterations\n",
      "completed 64 iterations\n",
      "completed 60 iterations\n",
      "completed 65 iterations\n",
      "[local.lcia.traci.2.1] Global Warming Air [kg CO2 eq] [LCIA] kg CO2 eq\n",
      "------------------------------------------------------------\n",
      "     0.129 =      0.321 x      0.403 | 0ec55       0.321 [ Input] -B*  market for electricity, low voltage [US-WECC]\n",
      "     0.121 =     0.0183 x       6.61 | b3b77      0.0183 [ Input] -#   coffee_ground\n",
      "   0.00794 =      0.015 x      0.529 | 8233b       0.015 [ Input] -B*  market for sugar, from sugarcane [GLO]\n",
      "    0.0018 =     0.0373 x     0.0482 | fc1c7      0.0373 [Output] -B*  treatment of municipal solid waste, sanitary landfill [RoW]\n",
      "   0.00173 =   0.000623 x       2.77 | b40d8    0.000623 [ Input] -B*  market for tissue paper [GLO]\n",
      "  0.000353 =      0.348 x    0.00101 | 82f02    0.000348 [ Input] -B*  market for tap water [RoW]\n",
      "==========\n",
      "     0.262 [local.lcia.traci.2.1] Global Warming Air [kg CO2 eq] [LCIA]\n"
     ]
    }
   ],
   "source": [
    "fg.get('morning_coffee').fragment_lcia(qs[4]).show_components()"
   ]
  },
  {
   "cell_type": "markdown",
   "id": "ba034819",
   "metadata": {},
   "source": [
    "## Aggregation\n",
    "You can control the information revealed in traversal and fragment LCIA by specifying whether the traversal \"descends\" through each link.  The descend setting is indicated by `::` in the ASCII drawing, while a non-descend is indicated by the absence of those marks."
   ]
  },
  {
   "cell_type": "code",
   "execution_count": 21,
   "id": "faf686f6",
   "metadata": {},
   "outputs": [
    {
     "name": "stdout",
     "output_type": "stream",
     "text": [
      "   -<--O   21dbd [       1 Item(s)] Morning coffee\n",
      "    [   1 unit] Morning coffee\n",
      "       | -<--#:: 39ac2 [       1 m3] Coffee\n",
      "       |        Stage: Sugar\n",
      "       | -<--B*  8233b [       1 kg] Sugar\n",
      "       x \n"
     ]
    }
   ],
   "source": [
    "coffee.show_tree()"
   ]
  },
  {
   "cell_type": "code",
   "execution_count": 22,
   "id": "a299f649",
   "metadata": {},
   "outputs": [],
   "source": [
    "# interactively specify descent\n",
    "next(coffee.children_with_flow(fg['flow_coffee'])).term.descend=False"
   ]
  },
  {
   "cell_type": "code",
   "execution_count": 23,
   "id": "42aae70c",
   "metadata": {},
   "outputs": [
    {
     "name": "stdout",
     "output_type": "stream",
     "text": [
      "   -<--O   21dbd [       1 Item(s)] Morning coffee\n",
      "    [   1 unit] Morning coffee\n",
      "       | -<--#   39ac2 [       1 m3] Coffee\n",
      "       |        Stage: Sugar\n",
      "       | -<--B*  8233b [       1 kg] Sugar\n",
      "       x \n"
     ]
    }
   ],
   "source": [
    "# the `::` have gone away\n",
    "coffee.show_tree()"
   ]
  },
  {
   "cell_type": "code",
   "execution_count": 24,
   "id": "69e4b971",
   "metadata": {},
   "outputs": [
    {
     "name": "stdout",
     "output_type": "stream",
     "text": [
      "[local.lcia.traci.2.1] Global Warming Air [kg CO2 eq] [LCIA] kg CO2 eq\n",
      "------------------------------------------------------------\n",
      "     0.254 =       1.83 x      0.139 | 39ac2     0.00033 [ Input] -#   coffee_1_cup\n",
      "   0.00794 =      0.015 x      0.529 | 8233b       0.015 [ Input] -B*  market for sugar, from sugarcane [GLO]\n",
      "==========\n",
      "     0.262 [local.lcia.traci.2.1] Global Warming Air [kg CO2 eq] [LCIA]\n"
     ]
    }
   ],
   "source": [
    "fg.get('morning_coffee').fragment_lcia(qs[4]).show_components()"
   ]
  },
  {
   "cell_type": "markdown",
   "id": "0b4ef4c6",
   "metadata": {},
   "source": [
    "# Shower\n",
    "This shows how the fragment structure, plus the use of dynamically-computed balancing flows, can be used to implement a parametric calculation"
   ]
  },
  {
   "cell_type": "code",
   "execution_count": 25,
   "id": "2ee96681",
   "metadata": {},
   "outputs": [
    {
     "name": "stdout",
     "output_type": "stream",
     "text": [
      "Naming fragment 23f97db9-8141-4547-8f8f-d534cc7fdd07 -> lossy_heat\n",
      "   -<--O   23f97 [*   0.65 MJ] Lossy Heat\n",
      "    [   1 unit] Lossy Heat\n",
      "       |        Stage: heat production, natural gas, at boiler atmospheric non-modulating <100kW\n",
      "       | -<--B*  b100f [       1 MJ] Delivered heat\n",
      "       x \n"
     ]
    }
   ],
   "source": [
    "# First- a model for heat losses in the water heater-- Assume 35% of heat is lost \n",
    "heat = B.new_link('Lossy Heat', 'net calorific value', 'Output', 0.65, units='MJ')\n",
    "B.new_link('Delivered heat', 'net calorific value', 'Input', 1.0, units='MJ', parent=heat).terminate(B.terms('ng_mj'))\n",
    "\n",
    "heat.show_tree(True)"
   ]
  },
  {
   "cell_type": "code",
   "execution_count": 26,
   "id": "af6a373b",
   "metadata": {},
   "outputs": [
    {
     "name": "stdout",
     "output_type": "stream",
     "text": [
      "Naming fragment d2f73ac1-5cc1-4d25-a71a-838e854a336e -> hot_water_50c\n",
      "Naming fragment 4b8d27dc-0179-4311-a87c-03c919363591 -> _hot_water_delta_t\n",
      "   -<--O   d2f73 [*  0.001 m3] Hot water 50C\n",
      "    [   1 unit] Hot water 50C\n",
      "       | -<--O   bb72b [*0.00418 MJ] kj per kg water degree C\n",
      "       |  [   1 unit] kj per kg water degree C\n",
      "       |     | -<--O   4b8d2 [*     25 MJ] times degrees C\n",
      "       |     |  [   1 unit] times degrees C\n",
      "       |     |     | -<--#:: 558d2 (=      0 MJ) Lossy heat in boiler\n",
      "       |     |     x \n",
      "       |     x \n",
      "       |        Stage: Tap water\n",
      "       | -<--B*  83a67 (=      0 m3) Water, at user\n",
      "       x \n"
     ]
    }
   ],
   "source": [
    "#\n",
    "hw = B.new_link('Hot water 50C', 'volume', 'Output', 1.0, units='l')\n",
    "# hot water, in volume\n",
    "B.new_link('water, at user', 'volume', 'Input', balance=True, parent=hw, stage='Tap water').terminate(B.terms('tap_water'))\n",
    "# heat required to warm 1 liter of water by 1 degree C\n",
    "kj = B.new_link('kj per kg water degree C', 'net calorific value', 'Input', 4.184, units='KJ', parent=hw)\n",
    "# 25 degrees C\n",
    "kjc = B.new_link('times degrees C', 'net calorific value', 'Input', 25, parent=kj, name='_hot_water_delta_t')  # need ad hoc scenarios\n",
    "# we terminate our heat flow to our lossy heat proces\n",
    "B.new_link('Lossy heat in boiler', 'net calorific value', 'Input', balance=True, parent=kjc).terminate(heat)\n",
    "\n",
    "\n",
    "hw.show_tree(True)"
   ]
  },
  {
   "cell_type": "code",
   "execution_count": 27,
   "id": "1d7f3bd7",
   "metadata": {},
   "outputs": [
    {
     "name": "stdout",
     "output_type": "stream",
     "text": [
      "Naming fragment b29cfdf7-c7ca-45d1-b4f1-744de5060845 -> hot_shower\n",
      "   -<--O   b29cf [       1 Item(s)] Hot Shower\n",
      "    [   1 unit] Hot Shower\n",
      "       | -<--O   b0ff2 [*     15 Item(s)] Minutes per shower\n",
      "       |  [   1 unit] Minutes per shower\n",
      "       |     | -<--O   5add9 [*  0.008 m3] liters per minute\n",
      "       |     |  [   1 unit] liters per minute\n",
      "       |     |     |        Stage: Cold water\n",
      "       |     |     | -<--B*  1e88c [*    0.1 m3] Water, at user\n",
      "       |     |     |        Stage: Hot water\n",
      "       |     |     | -<--#   1caed (=      0 m3) hot water fraction\n",
      "       |     |     x \n",
      "       |     x \n",
      "       |        Stage: Soap\n",
      "       | -<--B*  24fd3 [*  0.025 kg] some soap\n",
      "       x \n"
     ]
    }
   ],
   "source": [
    "# and the shower itB equals a mix of hot+cold water, plus soap\n",
    "shower = B.new_link('Hot Shower', 'Count', 'Output', 1.0)\n",
    "mins = B.new_link('Minutes per shower', 'Count', 'Input', 15, parent=shower)\n",
    "ls = B.new_link('liters per minute', 'volume', 'Input', 8, units='l', parent=mins)\n",
    "cold = B.new_link('cold water fraction', 'volume', 'Input', 0.1, flow_ref='flow_water_at_user', parent=ls,\n",
    "                  stage='Cold water')\n",
    "cold.terminate(B.terms('tap_water'))\n",
    "# note \"descend=False\"\n",
    "B.new_link('hot water fraction', 'volume', 'Input', balance=True, parent=ls, stage='Hot water').terminate(hw, descend=False)\n",
    "\n",
    "B.new_link('some soap', 'mass', 'Input', 0.025, parent=shower, stage='Soap').terminate(B.terms('soap'))\n",
    "\n",
    "shower.show_tree(True)"
   ]
  },
  {
   "cell_type": "markdown",
   "id": "4317092b",
   "metadata": {},
   "source": [
    "## Shower traversal\n"
   ]
  },
  {
   "cell_type": "code",
   "execution_count": 28,
   "id": "14f28a3d",
   "metadata": {},
   "outputs": [
    {
     "name": "stdout",
     "output_type": "stream",
     "text": [
      " [00] b29cf           1 [ Input] -O   hot_shower\n",
      " [01] b0ff2          15 [ Input] -O   Minutes per shower\n",
      " [02] 5add9        0.12 [ Input] -O   liters per minute\n",
      " [03] 1e88c       0.012 [ Input] -B*  market for tap water [RoW]\n",
      " [04] 1caed       0.108 [ Input] -#   hot_water_50c\n",
      " [05] 24fd3       0.025 [ Input] -B*  market for soap [GLO]\n"
     ]
    }
   ],
   "source": [
    "_=enum(shower.traverse(observed=True))"
   ]
  },
  {
   "cell_type": "markdown",
   "id": "dcbffba8",
   "metadata": {},
   "source": [
    "## Shower LCIA"
   ]
  },
  {
   "cell_type": "code",
   "execution_count": 29,
   "id": "5630f558",
   "metadata": {},
   "outputs": [
    {
     "name": "stdout",
     "output_type": "stream",
     "text": [
      "completed 66 iterations\n",
      "completed 63 iterations\n",
      "[local.lcia.traci.2.1] Global Warming Air [kg CO2 eq] [LCIA] kg CO2 eq\n",
      "------------------------------------------------------------\n",
      "      1.43 =        108 x     0.0132 | 1caed       0.108 [ Input] -#   hot_water_50c\n",
      "    0.0484 =      0.025 x       1.93 | 24fd3       0.025 [ Input] -B*  market for soap [GLO]\n",
      "    0.0122 =         12 x    0.00101 | 1e88c       0.012 [ Input] -B*  market for tap water [RoW]\n",
      "==========\n",
      "      1.49 [local.lcia.traci.2.1] Global Warming Air [kg CO2 eq] [LCIA]\n"
     ]
    }
   ],
   "source": [
    "shower.fragment_lcia(qs[4]).show_components()"
   ]
  },
  {
   "cell_type": "markdown",
   "id": "f104073b",
   "metadata": {},
   "source": [
    "## Scenarios and parameterization\n",
    "Observations can be made under a specific scenario, which is then specified during traversal or LCIA computation."
   ]
  },
  {
   "cell_type": "code",
   "execution_count": 30,
   "id": "6eae915a",
   "metadata": {},
   "outputs": [
    {
     "data": {
      "text/plain": [
       "'coffee_demo/1e88cb2e-db95-4064-8169-caf50b1081cb'"
      ]
     },
     "execution_count": 30,
     "metadata": {},
     "output_type": "execute_result"
    }
   ],
   "source": [
    "fg.observe(mins, exchange_value=20, scenario='long shower')\n",
    "fg.observe(cold, exchange_value=0, scenario='hot shower')"
   ]
  },
  {
   "cell_type": "code",
   "execution_count": 31,
   "id": "7f19f944",
   "metadata": {},
   "outputs": [
    {
     "name": "stdout",
     "output_type": "stream",
     "text": [
      "[local.lcia.traci.2.1] Global Warming Air [kg CO2 eq] [LCIA] kg CO2 eq\n",
      "------------------------------------------------------------\n",
      "       1.9 =        144 x     0.0132 | 1caed       0.144 [ Input] -#   hot_water_50c\n",
      "    0.0484 =      0.025 x       1.93 | 24fd3       0.025 [ Input] -B*  market for soap [GLO]\n",
      "    0.0162 =         16 x    0.00101 | 1e88c       0.016 [ Input] -B*  market for tap water [RoW]\n",
      "==========\n",
      "      1.97 [local.lcia.traci.2.1] Global Warming Air [kg CO2 eq] [LCIA]\n"
     ]
    }
   ],
   "source": [
    "shower.fragment_lcia(qs[4], 'long shower').show_components()"
   ]
  },
  {
   "cell_type": "code",
   "execution_count": 32,
   "id": "85cebba3",
   "metadata": {},
   "outputs": [
    {
     "name": "stdout",
     "output_type": "stream",
     "text": [
      "[local.lcia.traci.2.1] Global Warming Air [kg CO2 eq] [LCIA] kg CO2 eq\n",
      "------------------------------------------------------------\n",
      "      1.59 =        120 x     0.0132 | 1caed        0.12 [ Input] -#   hot_water_50c\n",
      "    0.0484 =      0.025 x       1.93 | 24fd3       0.025 [ Input] -B*  market for soap [GLO]\n",
      "==========\n",
      "      1.63 [local.lcia.traci.2.1] Global Warming Air [kg CO2 eq] [LCIA]\n"
     ]
    }
   ],
   "source": [
    "shower.fragment_lcia(qs[4], 'hot shower').show_components()"
   ]
  },
  {
   "cell_type": "code",
   "execution_count": 33,
   "id": "bc4b038c",
   "metadata": {},
   "outputs": [
    {
     "name": "stdout",
     "output_type": "stream",
     "text": [
      "[local.lcia.traci.2.1] Global Warming Air [kg CO2 eq] [LCIA] kg CO2 eq\n",
      "------------------------------------------------------------\n",
      "      2.11 =        160 x     0.0132 | 1caed        0.16 [ Input] -#   hot_water_50c\n",
      "    0.0484 =      0.025 x       1.93 | 24fd3       0.025 [ Input] -B*  market for soap [GLO]\n",
      "==========\n",
      "      2.16 [local.lcia.traci.2.1] Global Warming Air [kg CO2 eq] [LCIA]\n"
     ]
    }
   ],
   "source": [
    "shower.fragment_lcia(qs[4], ('long shower', 'hot shower')).show_components()"
   ]
  },
  {
   "cell_type": "markdown",
   "id": "daeb77b6",
   "metadata": {},
   "source": [
    "# The end"
   ]
  }
 ],
 "metadata": {
  "kernelspec": {
   "display_name": "antelope",
   "language": "python",
   "name": "antelope"
  },
  "language_info": {
   "codemirror_mode": {
    "name": "ipython",
    "version": 3
   },
   "file_extension": ".py",
   "mimetype": "text/x-python",
   "name": "python",
   "nbconvert_exporter": "python",
   "pygments_lexer": "ipython3",
   "version": "3.9.7"
  }
 },
 "nbformat": 4,
 "nbformat_minor": 5
}
